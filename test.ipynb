{
 "cells": [
  {
   "cell_type": "code",
   "execution_count": 1,
   "metadata": {},
   "outputs": [
    {
     "name": "stdout",
     "output_type": "stream",
     "text": [
      "Hi\n"
     ]
    }
   ],
   "source": [
    "print(\"Hi\")"
   ]
  },
  {
   "cell_type": "code",
   "execution_count": 2,
   "metadata": {},
   "outputs": [],
   "source": [
    "from key_generator import key_generator"
   ]
  },
  {
   "cell_type": "code",
   "execution_count": 3,
   "metadata": {},
   "outputs": [
    {
     "name": "stdout",
     "output_type": "stream",
     "text": [
      "-------------RSA Key Generator Powered by Davood-------------\n",
      "\n",
      "Initializing...\n",
      "Parameter p generated successfully.\n",
      "Parameter q generated successfully.\n",
      "Parameter n initalized successfully.\n",
      "Parameter phi initalized successfully.\n",
      "Generating list of possible public keys...\n",
      "List of possible public keys generated successfully.\n",
      "Public key selected successfully, size = 24 bits.\n",
      "Generating list of possible privaye keys...\n",
      "List of possible private keys generated successfully.\n",
      "Private key selected successfully, size = 25 bits.\n",
      "Finishing...\n",
      "\n",
      "-------------Key generation completed successfully-------------\n"
     ]
    }
   ],
   "source": [
    "pub_key , priv_key = key_generator(12)"
   ]
  }
 ],
 "metadata": {
  "kernelspec": {
   "display_name": "Python 3",
   "language": "python",
   "name": "python3"
  },
  "language_info": {
   "codemirror_mode": {
    "name": "ipython",
    "version": 3
   },
   "file_extension": ".py",
   "mimetype": "text/x-python",
   "name": "python",
   "nbconvert_exporter": "python",
   "pygments_lexer": "ipython3",
   "version": "3.11.6"
  }
 },
 "nbformat": 4,
 "nbformat_minor": 2
}
